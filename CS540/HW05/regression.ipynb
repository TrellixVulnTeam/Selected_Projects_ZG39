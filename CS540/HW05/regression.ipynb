{
 "cells": [
  {
   "cell_type": "code",
   "execution_count": 1,
   "metadata": {},
   "outputs": [],
   "source": [
    "import math\n",
    "from matplotlib import pyplot as plt\n",
    "import numpy as np\n",
    "import random\n",
    "\n",
    "\n",
    "# Feel free to import other packages, if needed.\n",
    "# As long as they are supported by CSL machines.\n",
    "\n",
    "\n",
    "# takes a filename and returns the data as\n",
    "# described below in an n-by-(m+1) array\n",
    "def get_dataset(filename):\n",
    "    \"\"\"\n",
    "    TODO: implement this function.\n",
    "\n",
    "    INPUT: \n",
    "        filename - a string representing the path to the csv file.\n",
    "\n",
    "    RETURNS:\n",
    "        An n by m+1 array, where n is # data points and m is # features.\n",
    "        The labels y should be in the first column.\n",
    "    \"\"\"\n",
    "    dataset = []\n",
    "    # read from csv file, cut string with \",\"\n",
    "    dataset = np.genfromtxt(filename, delimiter = \",\", skip_header = 1, encoding = \"utf-8\")\n",
    "    # delete the \"header\" in csv file, leave with only data in the dataset\n",
    "    dataset = np.delete(dataset, 0, 1)\n",
    "    return dataset"
   ]
  },
  {
   "cell_type": "code",
   "execution_count": 2,
   "metadata": {},
   "outputs": [
    {
     "data": {
      "text/plain": [
       "array([[12.6   ,  1.0708, 23.    , ..., 32.    , 27.4   , 17.1   ],\n",
       "       [ 6.9   ,  1.0853, 22.    , ..., 30.5   , 28.9   , 18.2   ],\n",
       "       [24.6   ,  1.0414, 22.    , ..., 28.8   , 25.2   , 16.6   ],\n",
       "       ...,\n",
       "       [28.3   ,  1.0328, 72.    , ..., 31.3   , 27.2   , 18.    ],\n",
       "       [25.3   ,  1.0399, 72.    , ..., 30.5   , 29.4   , 19.8   ],\n",
       "       [30.7   ,  1.0271, 74.    , ..., 33.7   , 30.    , 20.9   ]])"
      ]
     },
     "execution_count": 2,
     "metadata": {},
     "output_type": "execute_result"
    }
   ],
   "source": [
    "get_dataset('bodyfat.csv')"
   ]
  },
  {
   "cell_type": "code",
   "execution_count": 3,
   "metadata": {},
   "outputs": [
    {
     "data": {
      "text/plain": [
       "(252, 16)"
      ]
     },
     "execution_count": 3,
     "metadata": {},
     "output_type": "execute_result"
    }
   ],
   "source": [
    "dataset = get_dataset('bodyfat.csv')\n",
    "dataset.shape"
   ]
  },
  {
   "cell_type": "markdown",
   "metadata": {},
   "source": [
    "---------------------------------- Print_Stats ------------------------------"
   ]
  },
  {
   "cell_type": "code",
   "execution_count": 4,
   "metadata": {},
   "outputs": [],
   "source": [
    "def print_stats(dataset, col):\n",
    "    \"\"\"\n",
    "    TODO: implement this function.\n",
    "\n",
    "    INPUT: \n",
    "        dataset - the body fat n by m+1 array\n",
    "        col     - the index of feature to summarize on. \n",
    "                  For example, 1 refers to density.\n",
    "\n",
    "    RETURNS:\n",
    "        None\n",
    "    \"\"\"\n",
    "    # print:\n",
    "    # 1. Num of data points\n",
    "    # 2. sample mean\n",
    "    # 3. sample sd.\n",
    "    num_of_data = len(dataset)\n",
    "    sample_mean = 0\n",
    "    sample_sd = 0\n",
    "\n",
    "    # calculate sample mean. x_bar = 1/n (sigma i = 1 ~ n) xi\n",
    "    for i in dataset:\n",
    "        sample_mean += i[col]\n",
    "\n",
    "    sample_mean = 1 / num_of_data * sample_mean\n",
    "\n",
    "    # calculate sample sd. sd = sqrt(1/(n-1) * sum(1 ~ n)(x_i - x_bar)^2))\n",
    "    for i in dataset:\n",
    "        sample_sd += (i[col] - sample_mean) ** 2\n",
    "\n",
    "    sample_sd = (1 / (num_of_data - 1) * sample_sd) ** 0.5\n",
    "\n",
    "    # print out all 3 data\n",
    "    print(num_of_data)\n",
    "    print('{:.2f}'.format(sample_mean))\n",
    "    print('{:.2f}'.format(sample_sd))"
   ]
  },
  {
   "cell_type": "code",
   "execution_count": 5,
   "metadata": {},
   "outputs": [
    {
     "name": "stdout",
     "output_type": "stream",
     "text": [
      "252\n",
      "1.06\n",
      "0.02\n"
     ]
    }
   ],
   "source": [
    "data = get_dataset('bodyfat.csv')\n",
    "print_stats(dataset, 1)  # summary of density"
   ]
  },
  {
   "cell_type": "markdown",
   "metadata": {},
   "source": [
    "------------------------------------ regression ---------------------------------"
   ]
  },
  {
   "cell_type": "code",
   "execution_count": 6,
   "metadata": {},
   "outputs": [],
   "source": [
    "def regression(dataset, cols, betas):\n",
    "    \"\"\"\n",
    "    TODO: implement this function.\n",
    "\n",
    "    INPUT: \n",
    "        dataset - the body fat n by m+1 array\n",
    "        cols    - a list of feature indices to learn.\n",
    "                  For example, [1,8] refers to density and abdomen.\n",
    "        betas   - a list of elements chosen from [beta0, beta1, ..., betam]\n",
    "\n",
    "    RETURNS:\n",
    "        mse of the regression model\n",
    "    \"\"\"\n",
    "    num_of_data = len(dataset)\n",
    "    mse = 0\n",
    "\n",
    "    # formula: f(x) = beta_0 + beta_1 * x_i_1 + ... + beta_m * x_i_m\n",
    "    for i in dataset:\n",
    "        f_x = betas[0]  # beta_0\n",
    "        x_index = 0  \n",
    "\n",
    "        # perform beta_m * x_i_m\n",
    "        for beta_index in range(1, len(betas)):\n",
    "            f_x += betas[beta_index] * i[cols[x_index]]\n",
    "            x_index += 1\n",
    "\n",
    "        # Fprmula of mse = 1 / n * (f(x) - y_i) ^ 2\n",
    "        # step #1: calculate (f(x) - y_i) ^ 2\n",
    "        mse += math.pow((f_x - i[0]), 2)\n",
    "\n",
    "    # Step #2: mse = 1 / n * step #1\n",
    "    mse = 1 / num_of_data * mse\n",
    "    return mse\n"
   ]
  },
  {
   "cell_type": "code",
   "execution_count": 7,
   "metadata": {},
   "outputs": [
    {
     "data": {
      "text/plain": [
       "418.50384920634906"
      ]
     },
     "execution_count": 7,
     "metadata": {},
     "output_type": "execute_result"
    }
   ],
   "source": [
    "regression(dataset, cols=[2, 3], betas=[0, 0, 0])"
   ]
  },
  {
   "cell_type": "code",
   "execution_count": 8,
   "metadata": {},
   "outputs": [
    {
     "data": {
      "text/plain": [
       "11859.174086111105"
      ]
     },
     "execution_count": 8,
     "metadata": {},
     "output_type": "execute_result"
    }
   ],
   "source": [
    "regression(dataset, cols=[2, 3, 4], betas=[0, -1.1, -.2, 3])"
   ]
  },
  {
   "cell_type": "markdown",
   "metadata": {},
   "source": [
    "----------------------------------gradient_descent-------------------------------"
   ]
  },
  {
   "cell_type": "code",
   "execution_count": 9,
   "metadata": {},
   "outputs": [],
   "source": [
    "def gradient_descent(dataset, cols, betas):\n",
    "    \"\"\"\n",
    "    TODO: implement this function.\n",
    "\n",
    "    INPUT: \n",
    "        dataset - the body fat n by m+1 array\n",
    "        cols    - a list of feature indices to learn.\n",
    "                  For example, [1,8] refers to density and abdomen.\n",
    "        betas   - a list of elements chosen from [beta0, beta1, ..., betam]\n",
    "\n",
    "    RETURNS:\n",
    "        An 1D array of gradients\n",
    "    \"\"\"\n",
    "    grads = []\n",
    "    num_of_data = len(dataset)\n",
    "\n",
    "    # formula: f(x) = beta_0 + beta_1 * x_i_1 + ... + beta_m * x_i_m\n",
    "    for x in range(len(betas)):\n",
    "        temp = 0\n",
    "        sum_gd = 0\n",
    "        for i in dataset:\n",
    "            # step #1, set f(x) = beta_0\n",
    "            f_x = betas[0]\n",
    "            x_index = 0\n",
    "\n",
    "            # step #2, f(x) += beta_m * x_i_m\n",
    "            for j in range(1, len(betas)):\n",
    "                f_x += betas[j] * i[cols[x_index]]\n",
    "                x_index += 1\n",
    "\n",
    "            if x == 0:\n",
    "                # CASE #1: x = 0, no need to multiply x_i\n",
    "                temp += f_x - i[0]\n",
    "            elif x != 0:\n",
    "                # CASE #2: x != 0, step #2 * x_i\n",
    "                temp = (f_x - i[0]) * i[cols[x - 1]]\n",
    "                sum_gd += temp\n",
    "        # calculate final result according to 2 cases relatively\n",
    "        if x == 0:\n",
    "            sum_gd = 2 / num_of_data * temp \n",
    "        elif x != 0:\n",
    "            sum_gd = 2 / num_of_data * sum_gd \n",
    "\n",
    "        grads.append(sum_gd)\n",
    "\n",
    "    # transform array to a numpy array\n",
    "    grads = np.asarray(grads)\n",
    "    return grads"
   ]
  },
  {
   "cell_type": "code",
   "execution_count": 10,
   "metadata": {},
   "outputs": [
    {
     "data": {
      "text/plain": [
       "array([  -37.87698413, -1756.37222222, -7055.35138889])"
      ]
     },
     "execution_count": 10,
     "metadata": {},
     "output_type": "execute_result"
    }
   ],
   "source": [
    "gradient_descent(dataset, cols=[2, 3], betas=[0, 0, 0])"
   ]
  },
  {
   "cell_type": "markdown",
   "metadata": {},
   "source": [
    "------------------------------iterate_gradient-----------------------------------"
   ]
  },
  {
   "cell_type": "code",
   "execution_count": 11,
   "metadata": {},
   "outputs": [],
   "source": [
    "def iterate_gradient(dataset, cols, betas, T, eta):\n",
    "    \"\"\"\n",
    "    TODO: implement this function.\n",
    "\n",
    "    INPUT: \n",
    "        dataset - the body fat n by m+1 array\n",
    "        cols    - a list of feature indices to learn.\n",
    "                  For example, [1,8] refers to density and abdomen.\n",
    "        betas   - a list of elements chosen from [beta0, beta1, ..., betam]\n",
    "        T       - # iterations to run\n",
    "        eta     - learning rate\n",
    "\n",
    "    RETURNS:\n",
    "        None\n",
    "    \"\"\"\n",
    "\n",
    "    for curr_T in range(1, T + 1):\n",
    "        # PRINT #1: current iteration number, T\n",
    "        print(curr_T, end = \" \")\n",
    "\n",
    "        gd = gradient_descent(dataset, cols, betas)\n",
    "        for i in range(len(betas)):\n",
    "            # formula: beta_k_^(t) = beta_k_^(t-1) - eta(gradient_descenent)\n",
    "            betas[i] -= eta * gd[i]\n",
    "\n",
    "        # PRINT #2: current mse, mse\n",
    "        curr_mse = regression(dataset, cols, betas)\n",
    "        print('{:.2f}'.format(curr_mse), end = \" \")\n",
    "\n",
    "        # PRINT #3 & 4: current beta & all other betas, beta0, beta1, ... betam\n",
    "        for curr_beta in betas:\n",
    "            print('{:.2f}'.format(curr_beta), end = \" \")\n",
    "        # next line\n",
    "        print()"
   ]
  },
  {
   "cell_type": "code",
   "execution_count": 12,
   "metadata": {},
   "outputs": [
    {
     "name": "stdout",
     "output_type": "stream",
     "text": [
      "1 423085332.40 394.45 -405.84 -220.18 \n",
      "2 229744495.73 398.54 -401.54 163.14 \n",
      "3 124756241.68 395.53 -404.71 -119.33 \n",
      "4 67745350.04 397.75 -402.37 88.82 \n",
      "5 36787203.39 396.11 -404.09 -64.57 \n",
      "6 19976260.50 397.32 -402.82 48.47 \n",
      "7 10847555.07 396.43 -403.76 -34.83 \n",
      "8 5890470.68 397.09 -403.07 26.55 \n",
      "9 3198666.69 396.60 -403.58 -18.68 \n",
      "10 1736958.93 396.96 -403.20 14.65 \n"
     ]
    }
   ],
   "source": [
    "iterate_gradient(dataset, cols=[1, 8], betas=[400, -400, 300], T=10, eta=1e-4)"
   ]
  },
  {
   "cell_type": "markdown",
   "metadata": {},
   "source": [
    "---------------------------------compute_betas-----------------------------------"
   ]
  },
  {
   "cell_type": "code",
   "execution_count": 13,
   "metadata": {},
   "outputs": [],
   "source": [
    "def compute_betas(dataset, cols):\n",
    "    \"\"\"\n",
    "    TODO: implement this function.\n",
    "\n",
    "    INPUT: \n",
    "        dataset - the body fat n by m+1 array\n",
    "        cols    - a list of feature indices to learn.\n",
    "                  For example, [1,8] refers to density and abdomen.\n",
    "\n",
    "    RETURNS:\n",
    "        A tuple containing corresponding mse and several learned betas\n",
    "    \"\"\"\n",
    "    # β^ = (X_T * X)^ −1 * X_T * y\n",
    "    # X: n*m matrix def by param\n",
    "    # y: body fat\n",
    "    betas = ()\n",
    "    mse = 0\n",
    "    X = []\n",
    "    y = []\n",
    "\n",
    "    # iterate\n",
    "    for x in range(len(dataset)):\n",
    "        y.append(dataset[x][0])\n",
    "        temp = []\n",
    "        temp.append(1)\n",
    "        for col in cols:\n",
    "            temp.append(dataset[x][col])\n",
    "        X.append(temp)\n",
    "\n",
    "    # transform X to array type\n",
    "    X = np.asarray(X)\n",
    "    X_T = X.T  # transpose X\n",
    "\n",
    "    # calculate beta hat by formula: β^ = (X_T * X)^ −1 * X_T * y\n",
    "    betas = np.dot(np.dot(np.linalg.inv(np.dot(X_T, X)), X_T), y)\n",
    "\n",
    "    mse = regression(dataset, cols, betas)\n",
    "    return (mse, *betas)\n"
   ]
  },
  {
   "cell_type": "code",
   "execution_count": 14,
   "metadata": {},
   "outputs": [
    {
     "data": {
      "text/plain": [
       "(1.402939560014441,\n",
       " 441.35259435922495,\n",
       " -400.59549536855883,\n",
       " 0.009892204826346125)"
      ]
     },
     "execution_count": 14,
     "metadata": {},
     "output_type": "execute_result"
    }
   ],
   "source": [
    "compute_betas(dataset, cols=[1, 2])\n"
   ]
  },
  {
   "cell_type": "markdown",
   "metadata": {},
   "source": [
    "------------------------------------predict--------------------------------------"
   ]
  },
  {
   "cell_type": "code",
   "execution_count": 15,
   "metadata": {},
   "outputs": [],
   "source": [
    "def predict(dataset, cols, features):\n",
    "    \"\"\"\n",
    "    TODO: implement this function.\n",
    "    INPUT: \n",
    "        dataset - the body fat n by m+1 array\n",
    "        cols    - a list of feature indices to learn.\n",
    "                  For example, [1,8] refers to density and abdomen.\n",
    "        features- a list of observed values\n",
    "    RETURNS:\n",
    "        The predicted body fat percentage value\n",
    "    \"\"\"\n",
    "\n",
    "    betas = compute_betas(dataset, cols)\n",
    "    prediction = betas[1]\n",
    "    \n",
    "    for i in range(len(cols)):\n",
    "        prediction += betas[i + 2] * features[i]\n",
    "    \n",
    "    return prediction"
   ]
  },
  {
   "cell_type": "code",
   "execution_count": 16,
   "metadata": {},
   "outputs": [
    {
     "data": {
      "text/plain": [
       "12.622458629578128"
      ]
     },
     "execution_count": 16,
     "metadata": {},
     "output_type": "execute_result"
    }
   ],
   "source": [
    "predict(dataset, cols=[1, 2], features=[1.0708, 23])"
   ]
  },
  {
   "cell_type": "markdown",
   "metadata": {},
   "source": [
    "-------------------------------Synthetic_datasets--------------------------------"
   ]
  },
  {
   "cell_type": "code",
   "execution_count": 17,
   "metadata": {},
   "outputs": [],
   "source": [
    "def synthetic_datasets(betas, alphas, X, sigma):\n",
    "    \"\"\"\n",
    "    TODO: implement this function.\n",
    "\n",
    "    Input:\n",
    "        betas  - parameters of the linear model\n",
    "        alphas - parameters of the quadratic model\n",
    "        X      - the input array (shape is guaranteed to be (n,1))\n",
    "        sigma  - standard deviation of noise\n",
    "\n",
    "    RETURNS:\n",
    "        Two datasets of shape (n,2) - linear one first, followed by quadratic.\n",
    "    \"\"\"\n",
    "    # n * 2 array\n",
    "    linear = []  \n",
    "    quadratic = []\n",
    "\n",
    "    for i in range(len(X)):\n",
    "        # fill the linear array\n",
    "        # yi = β0 + β1xi + zi, zi∼N(0,σ)\n",
    "        y_i_linear = betas[0] + betas[1] * X[i][0] +\\\n",
    "             np.random.normal(loc = 0.0, scale = sigma)\n",
    "        linear.append([y_i_linear, X[i][0]])\n",
    "\n",
    "        # fill the quadratic array\n",
    "        # yi = α0 + α1xi^2 + zi, zi∼N(0, σ)\n",
    "        y_i_quadratic = alphas[0] + alphas[1] * ((X[i][0]) ** 2) +\\\n",
    "             np.random.normal(loc = 0.0, scale = sigma)\n",
    "        quadratic.append([y_i_quadratic, X[i][0]])\n",
    "\n",
    "    linear = np.asarray(linear)\n",
    "    quadratic = np.asarray(quadratic)\n",
    "\n",
    "    return linear, quadratic"
   ]
  },
  {
   "cell_type": "code",
   "execution_count": 18,
   "metadata": {},
   "outputs": [
    {
     "data": {
      "text/plain": [
       "(array([[7.47234351, 4.        ]]), array([[17.00235722,  4.        ]]))"
      ]
     },
     "execution_count": 18,
     "metadata": {},
     "output_type": "execute_result"
    }
   ],
   "source": [
    "synthetic_datasets(np.array([0, 2]), np.array([0, 1]), np.array([[4]]), 1)"
   ]
  },
  {
   "cell_type": "markdown",
   "metadata": {},
   "source": [
    "----------------------------compare_and_plot-------------------------------------"
   ]
  },
  {
   "cell_type": "code",
   "execution_count": 19,
   "metadata": {},
   "outputs": [],
   "source": [
    "def plot_mse():\n",
    "    from sys import argv\n",
    "    if len(argv) == 2 and argv[1] == 'csl':\n",
    "        import matplotlib\n",
    "        matplotlib.use('Agg')\n",
    "\n",
    "    # TODO: Generate datasets and plot an MSE-sigma graph\n",
    "    # STEP #1: Create an input array X containing 1000 numbers\n",
    "    # within range [-100, 100].\n",
    "    X = []\n",
    "    for i in range(1000):\n",
    "        X.append([random.randint(-100, 100)])\n",
    "\n",
    "    # STEP #2: Create couples of betas and alphas with non-zero values\n",
    "    couple_alphas = [1, 2, 3, 4]\n",
    "    couple_betas = [4, 3, 2, 1]\n",
    "\n",
    "    # STEP #3: Set sigmas to be 10^−4,10^−3,…,1,10,…,10^5\n",
    "    sigmas = [1e-4, 1e-3, 1e-2, 1e-1, 1e0, 1e1, 1e2, 1e3, 1e4, 1e5]\n",
    "\n",
    "    # STEP #4: Under each settings of sigmas, generate two synthetic datasets\n",
    "    synthetic_datasets_set = []\n",
    "    for sigma in sigmas:\n",
    "        synthetic_datasets_set.append(synthetic_datasets(\n",
    "            couple_betas, couple_alphas, X, sigma))\n",
    "\n",
    "    # STEP #5: Fit both datasets using compute_betas(), obtain the corresponding MSEs\n",
    "    linear_mse = []\n",
    "    quadratic_mse = []\n",
    "    for i in range(len(synthetic_datasets_set)):\n",
    "        linear_mse.append(compute_betas(\n",
    "            synthetic_datasets_set[i][0], cols=[1])[0])\n",
    "        quadratic_mse.append(compute_betas(\n",
    "            synthetic_datasets_set[i][1], cols=[1])[0])\n",
    "\n",
    "    # STEP #6: Plot a figure showing how MSE changes while sigma is increasing\n",
    "    # should use the plotting format -o\n",
    "    plt.plot(sigmas, linear_mse, \"-o\")\n",
    "    plt.plot(sigmas, quadratic_mse, \"-o\")\n",
    "\n",
    "    # both axes log scale\n",
    "    plt.xscale(\"log\")\n",
    "    plt.yscale(\"log\")\n",
    "\n",
    "    # label x-y axis\n",
    "    plt.xlabel(\"Different Setting of Sigmas / σ\")\n",
    "    plt.ylabel(\"MSE of Trained Model\")\n",
    "\n",
    "    # make a legend\n",
    "    plt.legend([\"linear dataset\", \"quadratic dataset\"])\n",
    "\n",
    "    # Save the figure as mse.pdf. Do NOT display it\n",
    "    plt.savefig(\"mse.pdf\", format=\"pdf\")"
   ]
  },
  {
   "cell_type": "markdown",
   "metadata": {},
   "source": [
    "-------------------------- Main function --------------------------------"
   ]
  },
  {
   "cell_type": "code",
   "execution_count": 20,
   "metadata": {},
   "outputs": [
    {
     "data": {
      "image/png": "[encoded data removed]",
      "text/plain": [
       "<Figure size 432x288 with 1 Axes>"
      ]
     },
     "metadata": {
      "needs_background": "light"
     },
     "output_type": "display_data"
    }
   ],
   "source": [
    "if __name__ == '__main__':\n",
    "    ### DO NOT CHANGE THIS SECTION ###\n",
    "    plot_mse()\n"
   ]
  }
 ],
 "metadata": {
  "interpreter": {
   "hash": "b3ba2566441a7c06988d0923437866b63cedc61552a5af99d1f4fb67d367b25f"
  },
  "kernelspec": {
   "display_name": "Python 3.8.5 64-bit ('base': conda)",
   "name": "python3"
  },
  "language_info": {
   "codemirror_mode": {
    "name": "ipython",
    "version": 3
   },
   "file_extension": ".py",
   "mimetype": "text/x-python",
   "name": "python",
   "nbconvert_exporter": "python",
   "pygments_lexer": "ipython3",
   "version": "3.8.5"
  }
 },
 "nbformat": 4,
 "nbformat_minor": 4
}
